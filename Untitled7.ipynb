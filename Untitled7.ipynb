{
  "nbformat": 4,
  "nbformat_minor": 0,
  "metadata": {
    "colab": {
      "name": "Untitled7.ipynb",
      "provenance": [],
      "collapsed_sections": [],
      "authorship_tag": "ABX9TyMv+R2MqKNp2ETnmL/aqyOt",
      "include_colab_link": true
    },
    "kernelspec": {
      "name": "python3",
      "display_name": "Python 3"
    },
    "language_info": {
      "name": "python"
    }
  },
  "cells": [
    {
      "cell_type": "markdown",
      "metadata": {
        "id": "view-in-github",
        "colab_type": "text"
      },
      "source": [
        "<a href=\"https://colab.research.google.com/github/ndxbinh1922001/MachineLearnAnalyzeMaldoc/blob/master/Untitled7.ipynb\" target=\"_parent\"><img src=\"https://colab.research.google.com/assets/colab-badge.svg\" alt=\"Open In Colab\"/></a>"
      ]
    },
    {
      "cell_type": "code",
      "execution_count": 23,
      "metadata": {
        "id": "fnk3D7vNMX86",
        "colab": {
          "base_uri": "https://localhost:8080/",
          "height": 91
        },
        "outputId": "f92596ff-a231-42b9-c6eb-3c6d016f7b6d"
      },
      "outputs": [
        {
          "output_type": "stream",
          "name": "stdout",
          "text": [
            "Accuracy: 0.9756963918489437\n"
          ]
        },
        {
          "output_type": "stream",
          "name": "stderr",
          "text": [
            "/usr/local/lib/python3.7/dist-packages/sklearn/base.py:451: UserWarning: X does not have valid feature names, but RandomForestClassifier was fitted with feature names\n",
            "  \"X does not have valid feature names, but\"\n"
          ]
        },
        {
          "output_type": "execute_result",
          "data": {
            "text/plain": [
              "'malicious'"
            ],
            "application/vnd.google.colaboratory.intrinsic+json": {
              "type": "string"
            }
          },
          "metadata": {},
          "execution_count": 23
        }
      ],
      "source": [
        "import numpy as np, pandas as pd\n",
        "from sklearn.model_selection import train_test_split\n",
        "from sklearn.ensemble import RandomForestClassifier\n",
        "from sklearn import metrics\n",
        "data=pd.read_csv(\"dataset.csv\")\n",
        "X=data[['base64 strings', ' kill', ' call', ' callbyname', ' shellexecute',\n",
        "       ' chrw', ' shell.application', ' createobject',\n",
        "       ' activeworkbook.saveas', ' xor', ' vba stomping', ' binary',\n",
        "       ' strreverse', ' chr', ' lib', ' system', ' wscript.shell',\n",
        "       ' document_open', ' auto_open', ' showwindow', ' workbook_open',\n",
        "       ' print', ' filecopy', ' virtual', ' autoopen', ' open', ' shell',\n",
        "       ' windows', ' write', ' document_close', ' run', ' output', ' vbhide',\n",
        "       ' chrb', ' executeexcel4macro', ' savetofile', ' environ',\n",
        "       ' createtextfile', ' hex strings', 'dde']]  # Features\n",
        "y=data['type_file']  \n",
        "X_train, X_test, y_train, y_test = train_test_split(X, y, test_size=0.3) \n",
        "clf=RandomForestClassifier(n_estimators=200, max_depth=20, max_features=10)\n",
        "clf.fit(X_train,y_train)\n",
        "y_pred=clf.predict(X_test)\n",
        "print(\"Accuracy:\",metrics.accuracy_score(y_test, y_pred))\n",
        "clf.predict([[0,0,0,0,0,0,0,0,0,0,0,0,0,0,1,0,0,0,0,0,0,0,0,1,0,0,0,0,0,0,0,0,0,0,0,0,0,0,0,0]])[0]"
      ]
    },
    {
      "cell_type": "code",
      "source": [
        "X=data[['base64 strings', ' kill', ' call', ' callbyname', ' shellexecute',\n",
        "       ' chrw', ' shell.application', ' createobject',\n",
        "       ' activeworkbook.saveas', ' xor', ' vba stomping', ' binary',\n",
        "       ' strreverse', ' chr', ' lib', ' system', ' wscript.shell',\n",
        "       ' document_open', ' auto_open', ' showwindow', ' workbook_open',\n",
        "       ' print', ' filecopy', ' virtual', ' autoopen', ' open', ' shell',\n",
        "       ' windows', ' write', ' document_close', ' run', ' output', ' vbhide',\n",
        "       ' chrb', ' executeexcel4macro', ' savetofile', ' environ',\n",
        "       ' createtextfile', ' hex strings', 'dde']]  # Features\n",
        "y=data['malicious']  \n",
        "X_train, X_test, y_train, y_test = train_test_split(X, y, test_size=0.3) \n",
        "clf=RandomForestClassifier(n_estimators=200, max_depth=20, max_features=10)\n",
        "clf.fit(X_train,y_train)\n",
        "y_pred=clf.predict(X_test)\n"
      ],
      "metadata": {
        "id": "IwPYyO3qM3bm",
        "colab": {
          "base_uri": "https://localhost:8080/",
          "height": 235
        },
        "outputId": "755da4da-92f6-45ff-93cb-e2b63ca33816"
      },
      "execution_count": null,
      "outputs": [
        {
          "output_type": "error",
          "ename": "NameError",
          "evalue": "ignored",
          "traceback": [
            "\u001b[0;31m---------------------------------------------------------------------------\u001b[0m",
            "\u001b[0;31mNameError\u001b[0m                                 Traceback (most recent call last)",
            "\u001b[0;32m<ipython-input-4-b65cd503e8fd>\u001b[0m in \u001b[0;36m<module>\u001b[0;34m()\u001b[0m\n\u001b[0;32m----> 1\u001b[0;31m X=data[['base64 strings', ' kill', ' call', ' callbyname', ' shellexecute',\n\u001b[0m\u001b[1;32m      2\u001b[0m        \u001b[0;34m' chrw'\u001b[0m\u001b[0;34m,\u001b[0m \u001b[0;34m' shell.application'\u001b[0m\u001b[0;34m,\u001b[0m \u001b[0;34m' createobject'\u001b[0m\u001b[0;34m,\u001b[0m\u001b[0;34m\u001b[0m\u001b[0;34m\u001b[0m\u001b[0m\n\u001b[1;32m      3\u001b[0m        \u001b[0;34m' activeworkbook.saveas'\u001b[0m\u001b[0;34m,\u001b[0m \u001b[0;34m' xor'\u001b[0m\u001b[0;34m,\u001b[0m \u001b[0;34m' vba stomping'\u001b[0m\u001b[0;34m,\u001b[0m \u001b[0;34m' binary'\u001b[0m\u001b[0;34m,\u001b[0m\u001b[0;34m\u001b[0m\u001b[0;34m\u001b[0m\u001b[0m\n\u001b[1;32m      4\u001b[0m        \u001b[0;34m' strreverse'\u001b[0m\u001b[0;34m,\u001b[0m \u001b[0;34m' chr'\u001b[0m\u001b[0;34m,\u001b[0m \u001b[0;34m' lib'\u001b[0m\u001b[0;34m,\u001b[0m \u001b[0;34m' system'\u001b[0m\u001b[0;34m,\u001b[0m \u001b[0;34m' wscript.shell'\u001b[0m\u001b[0;34m,\u001b[0m\u001b[0;34m\u001b[0m\u001b[0;34m\u001b[0m\u001b[0m\n\u001b[1;32m      5\u001b[0m        \u001b[0;34m' document_open'\u001b[0m\u001b[0;34m,\u001b[0m \u001b[0;34m' auto_open'\u001b[0m\u001b[0;34m,\u001b[0m \u001b[0;34m' showwindow'\u001b[0m\u001b[0;34m,\u001b[0m \u001b[0;34m' workbook_open'\u001b[0m\u001b[0;34m,\u001b[0m\u001b[0;34m\u001b[0m\u001b[0;34m\u001b[0m\u001b[0m\n",
            "\u001b[0;31mNameError\u001b[0m: name 'data' is not defined"
          ]
        }
      ]
    },
    {
      "cell_type": "code",
      "source": [
        "print(\"Accuracy:\",metrics.accuracy_score(y_test, y_pred))\n",
        "clf.predict([[1,0,0,0,0,1,0,1,0,0,1,0,0,0,0,0,0,0,0,1,0,0,0,0,1,0,0,0,0,0,0,0,0,0,0,0,0,0,1,0]])"
      ],
      "metadata": {
        "colab": {
          "base_uri": "https://localhost:8080/",
          "height": 317
        },
        "id": "O3OqmBxfNJyx",
        "outputId": "03607dcb-fc7f-4456-f711-212e152f8995"
      },
      "execution_count": null,
      "outputs": [
        {
          "output_type": "execute_result",
          "data": {
            "text/plain": [
              "   base64 strings   kill   call   callbyname   shellexecute   chrw  \\\n",
              "0               1      0      0            0              0      0   \n",
              "1               1      1      1            0              0      0   \n",
              "2               1      0      0            0              0      0   \n",
              "3               0      0      0            0              0      0   \n",
              "4               1      0      0            0              0      0   \n",
              "\n",
              "    shell.application   createobject   activeworkbook.saveas   xor  ...  \\\n",
              "0                   0              1                       0     0  ...   \n",
              "1                   0              0                       0     0  ...   \n",
              "2                   0              1                       0     0  ...   \n",
              "3                   0              0                       0     0  ...   \n",
              "4                   0              0                       0     1  ...   \n",
              "\n",
              "    output   vbhide   chrb   executeexcel4macro   savetofile   environ  \\\n",
              "0        0        0      0                    0            0         0   \n",
              "1        1        0      0                    0            0         0   \n",
              "2        0        0      0                    0            0         0   \n",
              "3        0        0      0                    0            0         0   \n",
              "4        0        0      0                    0            0         0   \n",
              "\n",
              "    createtextfile   hex strings  dde  malicious  \n",
              "0                0             1    0          1  \n",
              "1                0             1    0          1  \n",
              "2                0             1    0          1  \n",
              "3                0             1    0          1  \n",
              "4                0             1    0          1  \n",
              "\n",
              "[5 rows x 41 columns]"
            ],
            "text/html": [
              "\n",
              "  <div id=\"df-26157903-4e4b-43aa-8413-95eb9f0169a4\">\n",
              "    <div class=\"colab-df-container\">\n",
              "      <div>\n",
              "<style scoped>\n",
              "    .dataframe tbody tr th:only-of-type {\n",
              "        vertical-align: middle;\n",
              "    }\n",
              "\n",
              "    .dataframe tbody tr th {\n",
              "        vertical-align: top;\n",
              "    }\n",
              "\n",
              "    .dataframe thead th {\n",
              "        text-align: right;\n",
              "    }\n",
              "</style>\n",
              "<table border=\"1\" class=\"dataframe\">\n",
              "  <thead>\n",
              "    <tr style=\"text-align: right;\">\n",
              "      <th></th>\n",
              "      <th>base64 strings</th>\n",
              "      <th>kill</th>\n",
              "      <th>call</th>\n",
              "      <th>callbyname</th>\n",
              "      <th>shellexecute</th>\n",
              "      <th>chrw</th>\n",
              "      <th>shell.application</th>\n",
              "      <th>createobject</th>\n",
              "      <th>activeworkbook.saveas</th>\n",
              "      <th>xor</th>\n",
              "      <th>...</th>\n",
              "      <th>output</th>\n",
              "      <th>vbhide</th>\n",
              "      <th>chrb</th>\n",
              "      <th>executeexcel4macro</th>\n",
              "      <th>savetofile</th>\n",
              "      <th>environ</th>\n",
              "      <th>createtextfile</th>\n",
              "      <th>hex strings</th>\n",
              "      <th>dde</th>\n",
              "      <th>malicious</th>\n",
              "    </tr>\n",
              "  </thead>\n",
              "  <tbody>\n",
              "    <tr>\n",
              "      <th>0</th>\n",
              "      <td>1</td>\n",
              "      <td>0</td>\n",
              "      <td>0</td>\n",
              "      <td>0</td>\n",
              "      <td>0</td>\n",
              "      <td>0</td>\n",
              "      <td>0</td>\n",
              "      <td>1</td>\n",
              "      <td>0</td>\n",
              "      <td>0</td>\n",
              "      <td>...</td>\n",
              "      <td>0</td>\n",
              "      <td>0</td>\n",
              "      <td>0</td>\n",
              "      <td>0</td>\n",
              "      <td>0</td>\n",
              "      <td>0</td>\n",
              "      <td>0</td>\n",
              "      <td>1</td>\n",
              "      <td>0</td>\n",
              "      <td>1</td>\n",
              "    </tr>\n",
              "    <tr>\n",
              "      <th>1</th>\n",
              "      <td>1</td>\n",
              "      <td>1</td>\n",
              "      <td>1</td>\n",
              "      <td>0</td>\n",
              "      <td>0</td>\n",
              "      <td>0</td>\n",
              "      <td>0</td>\n",
              "      <td>0</td>\n",
              "      <td>0</td>\n",
              "      <td>0</td>\n",
              "      <td>...</td>\n",
              "      <td>1</td>\n",
              "      <td>0</td>\n",
              "      <td>0</td>\n",
              "      <td>0</td>\n",
              "      <td>0</td>\n",
              "      <td>0</td>\n",
              "      <td>0</td>\n",
              "      <td>1</td>\n",
              "      <td>0</td>\n",
              "      <td>1</td>\n",
              "    </tr>\n",
              "    <tr>\n",
              "      <th>2</th>\n",
              "      <td>1</td>\n",
              "      <td>0</td>\n",
              "      <td>0</td>\n",
              "      <td>0</td>\n",
              "      <td>0</td>\n",
              "      <td>0</td>\n",
              "      <td>0</td>\n",
              "      <td>1</td>\n",
              "      <td>0</td>\n",
              "      <td>0</td>\n",
              "      <td>...</td>\n",
              "      <td>0</td>\n",
              "      <td>0</td>\n",
              "      <td>0</td>\n",
              "      <td>0</td>\n",
              "      <td>0</td>\n",
              "      <td>0</td>\n",
              "      <td>0</td>\n",
              "      <td>1</td>\n",
              "      <td>0</td>\n",
              "      <td>1</td>\n",
              "    </tr>\n",
              "    <tr>\n",
              "      <th>3</th>\n",
              "      <td>0</td>\n",
              "      <td>0</td>\n",
              "      <td>0</td>\n",
              "      <td>0</td>\n",
              "      <td>0</td>\n",
              "      <td>0</td>\n",
              "      <td>0</td>\n",
              "      <td>0</td>\n",
              "      <td>0</td>\n",
              "      <td>0</td>\n",
              "      <td>...</td>\n",
              "      <td>0</td>\n",
              "      <td>0</td>\n",
              "      <td>0</td>\n",
              "      <td>0</td>\n",
              "      <td>0</td>\n",
              "      <td>0</td>\n",
              "      <td>0</td>\n",
              "      <td>1</td>\n",
              "      <td>0</td>\n",
              "      <td>1</td>\n",
              "    </tr>\n",
              "    <tr>\n",
              "      <th>4</th>\n",
              "      <td>1</td>\n",
              "      <td>0</td>\n",
              "      <td>0</td>\n",
              "      <td>0</td>\n",
              "      <td>0</td>\n",
              "      <td>0</td>\n",
              "      <td>0</td>\n",
              "      <td>0</td>\n",
              "      <td>0</td>\n",
              "      <td>1</td>\n",
              "      <td>...</td>\n",
              "      <td>0</td>\n",
              "      <td>0</td>\n",
              "      <td>0</td>\n",
              "      <td>0</td>\n",
              "      <td>0</td>\n",
              "      <td>0</td>\n",
              "      <td>0</td>\n",
              "      <td>1</td>\n",
              "      <td>0</td>\n",
              "      <td>1</td>\n",
              "    </tr>\n",
              "  </tbody>\n",
              "</table>\n",
              "<p>5 rows × 41 columns</p>\n",
              "</div>\n",
              "      <button class=\"colab-df-convert\" onclick=\"convertToInteractive('df-26157903-4e4b-43aa-8413-95eb9f0169a4')\"\n",
              "              title=\"Convert this dataframe to an interactive table.\"\n",
              "              style=\"display:none;\">\n",
              "        \n",
              "  <svg xmlns=\"http://www.w3.org/2000/svg\" height=\"24px\"viewBox=\"0 0 24 24\"\n",
              "       width=\"24px\">\n",
              "    <path d=\"M0 0h24v24H0V0z\" fill=\"none\"/>\n",
              "    <path d=\"M18.56 5.44l.94 2.06.94-2.06 2.06-.94-2.06-.94-.94-2.06-.94 2.06-2.06.94zm-11 1L8.5 8.5l.94-2.06 2.06-.94-2.06-.94L8.5 2.5l-.94 2.06-2.06.94zm10 10l.94 2.06.94-2.06 2.06-.94-2.06-.94-.94-2.06-.94 2.06-2.06.94z\"/><path d=\"M17.41 7.96l-1.37-1.37c-.4-.4-.92-.59-1.43-.59-.52 0-1.04.2-1.43.59L10.3 9.45l-7.72 7.72c-.78.78-.78 2.05 0 2.83L4 21.41c.39.39.9.59 1.41.59.51 0 1.02-.2 1.41-.59l7.78-7.78 2.81-2.81c.8-.78.8-2.07 0-2.86zM5.41 20L4 18.59l7.72-7.72 1.47 1.35L5.41 20z\"/>\n",
              "  </svg>\n",
              "      </button>\n",
              "      \n",
              "  <style>\n",
              "    .colab-df-container {\n",
              "      display:flex;\n",
              "      flex-wrap:wrap;\n",
              "      gap: 12px;\n",
              "    }\n",
              "\n",
              "    .colab-df-convert {\n",
              "      background-color: #E8F0FE;\n",
              "      border: none;\n",
              "      border-radius: 50%;\n",
              "      cursor: pointer;\n",
              "      display: none;\n",
              "      fill: #1967D2;\n",
              "      height: 32px;\n",
              "      padding: 0 0 0 0;\n",
              "      width: 32px;\n",
              "    }\n",
              "\n",
              "    .colab-df-convert:hover {\n",
              "      background-color: #E2EBFA;\n",
              "      box-shadow: 0px 1px 2px rgba(60, 64, 67, 0.3), 0px 1px 3px 1px rgba(60, 64, 67, 0.15);\n",
              "      fill: #174EA6;\n",
              "    }\n",
              "\n",
              "    [theme=dark] .colab-df-convert {\n",
              "      background-color: #3B4455;\n",
              "      fill: #D2E3FC;\n",
              "    }\n",
              "\n",
              "    [theme=dark] .colab-df-convert:hover {\n",
              "      background-color: #434B5C;\n",
              "      box-shadow: 0px 1px 3px 1px rgba(0, 0, 0, 0.15);\n",
              "      filter: drop-shadow(0px 1px 2px rgba(0, 0, 0, 0.3));\n",
              "      fill: #FFFFFF;\n",
              "    }\n",
              "  </style>\n",
              "\n",
              "      <script>\n",
              "        const buttonEl =\n",
              "          document.querySelector('#df-26157903-4e4b-43aa-8413-95eb9f0169a4 button.colab-df-convert');\n",
              "        buttonEl.style.display =\n",
              "          google.colab.kernel.accessAllowed ? 'block' : 'none';\n",
              "\n",
              "        async function convertToInteractive(key) {\n",
              "          const element = document.querySelector('#df-26157903-4e4b-43aa-8413-95eb9f0169a4');\n",
              "          const dataTable =\n",
              "            await google.colab.kernel.invokeFunction('convertToInteractive',\n",
              "                                                     [key], {});\n",
              "          if (!dataTable) return;\n",
              "\n",
              "          const docLinkHtml = 'Like what you see? Visit the ' +\n",
              "            '<a target=\"_blank\" href=https://colab.research.google.com/notebooks/data_table.ipynb>data table notebook</a>'\n",
              "            + ' to learn more about interactive tables.';\n",
              "          element.innerHTML = '';\n",
              "          dataTable['output_type'] = 'display_data';\n",
              "          await google.colab.output.renderOutput(dataTable, element);\n",
              "          const docLink = document.createElement('div');\n",
              "          docLink.innerHTML = docLinkHtml;\n",
              "          element.appendChild(docLink);\n",
              "        }\n",
              "      </script>\n",
              "    </div>\n",
              "  </div>\n",
              "  "
            ]
          },
          "metadata": {},
          "execution_count": 4
        }
      ]
    },
    {
      "cell_type": "code",
      "source": [
        "print(data.columns)\n",
        "\n"
      ],
      "metadata": {
        "colab": {
          "base_uri": "https://localhost:8080/"
        },
        "id": "xD3BeljuNMgd",
        "outputId": "ce595183-65ee-42ee-9329-9a4d4e5d070f"
      },
      "execution_count": null,
      "outputs": [
        {
          "output_type": "stream",
          "name": "stdout",
          "text": [
            "Index(['base64 strings', ' kill', ' call', ' callbyname', ' shellexecute',\n",
            "       ' chrw', ' shell.application', ' createobject',\n",
            "       ' activeworkbook.saveas', ' xor', ' vba stomping', ' binary',\n",
            "       ' strreverse', ' chr', ' lib', ' system', ' wscript.shell',\n",
            "       ' document_open', ' auto_open', ' showwindow', ' workbook_open',\n",
            "       ' print', ' filecopy', ' virtual', ' autoopen', ' open', ' shell',\n",
            "       ' windows', ' write', ' document_close', ' run', ' output', ' vbhide',\n",
            "       ' chrb', ' executeexcel4macro', ' savetofile', ' environ',\n",
            "       ' createtextfile', ' hex strings', 'dde', 'malicious'],\n",
            "      dtype='object')\n"
          ]
        }
      ]
    },
    {
      "cell_type": "code",
      "source": [
        ""
      ],
      "metadata": {
        "id": "HvC5AQrJOIg1"
      },
      "execution_count": null,
      "outputs": []
    },
    {
      "cell_type": "code",
      "source": [
        "from sklearn.ensemble import RandomForestClassifier\n",
        "\n",
        "#Create a Gaussian Classifier\n",
        "clf=RandomForestClassifier(n_estimators=200, max_depth=20, max_features=10)\n",
        "\n",
        "#Train the model using the training sets y_pred=clf.predict(X_test)\n",
        "clf.fit(X_train,y_train)\n",
        "\n",
        "y_pred=clf.predict(X_test)"
      ],
      "metadata": {
        "id": "Lt-uWaOXPv6T"
      },
      "execution_count": null,
      "outputs": []
    },
    {
      "cell_type": "code",
      "source": [
        "from sklearn import metrics\n",
        "# Model Accuracy, how often is the classifier correct?\n",
        "print(\"Accuracy:\",metrics.accuracy_score(y_test, y_pred))"
      ],
      "metadata": {
        "colab": {
          "base_uri": "https://localhost:8080/"
        },
        "id": "LcGkBPRBQFw0",
        "outputId": "1992a63a-d000-42db-c732-02c3ca1a92f5"
      },
      "execution_count": null,
      "outputs": [
        {
          "output_type": "stream",
          "name": "stdout",
          "text": [
            "Accuracy: 0.9740186915887851\n"
          ]
        }
      ]
    },
    {
      "cell_type": "code",
      "source": [
        "clf.predict([[1,0,0,0,0,1,0,1,0,0,1,0,0,0,0,0,0,0,0,1,0,0,0,0,1,0,0,0,0,0,0,0,0,0,0,0,0,0,1,0]])"
      ],
      "metadata": {
        "colab": {
          "base_uri": "https://localhost:8080/"
        },
        "id": "MuZRpbDVSEEc",
        "outputId": "3a1d9f39-792b-4098-82b8-3b403b068a35"
      },
      "execution_count": null,
      "outputs": [
        {
          "output_type": "stream",
          "name": "stderr",
          "text": [
            "/usr/local/lib/python3.7/dist-packages/sklearn/base.py:451: UserWarning: X does not have valid feature names, but RandomForestClassifier was fitted with feature names\n",
            "  \"X does not have valid feature names, but\"\n"
          ]
        },
        {
          "output_type": "execute_result",
          "data": {
            "text/plain": [
              "array([1])"
            ]
          },
          "metadata": {},
          "execution_count": 11
        }
      ]
    },
    {
      "cell_type": "code",
      "source": [
        ""
      ],
      "metadata": {
        "colab": {
          "base_uri": "https://localhost:8080/"
        },
        "id": "WuHfCOyTS_Z6",
        "outputId": "0a5dd770-5f25-4e1f-f541-0eda2f522d64"
      },
      "execution_count": null,
      "outputs": [
        {
          "output_type": "execute_result",
          "data": {
            "text/plain": [
              "RandomForestClassifier(max_depth=20, max_features=10, n_estimators=200)"
            ]
          },
          "metadata": {},
          "execution_count": 12
        }
      ]
    },
    {
      "cell_type": "code",
      "source": [
        "import pandas as pd\n",
        "feature_imp = pd.Series(clf.feature_importances_,index=['base64 strings', ' kill', ' call', ' callbyname', ' shellexecute',\n",
        "       ' chrw', ' shell.application', ' createobject',\n",
        "       ' activeworkbook.saveas', ' xor', ' vba stomping', ' binary',\n",
        "       ' strreverse', ' chr', ' lib', ' system', ' wscript.shell',\n",
        "       ' document_open', ' auto_open', ' showwindow', ' workbook_open',\n",
        "       ' print', ' filecopy', ' virtual', ' autoopen', ' open', ' shell',\n",
        "       ' windows', ' write', ' document_close', ' run', ' output', ' vbhide',\n",
        "       ' chrb', ' executeexcel4macro', ' savetofile', ' environ',\n",
        "       ' createtextfile', ' hex strings', 'dde']).sort_values(ascending=False)\n",
        "feature_imp"
      ],
      "metadata": {
        "colab": {
          "base_uri": "https://localhost:8080/"
        },
        "id": "7ibiqMC0UYOi",
        "outputId": "4946435f-2ca5-4ff5-de93-8c323a3bb1ba"
      },
      "execution_count": null,
      "outputs": [
        {
          "output_type": "execute_result",
          "data": {
            "text/plain": [
              " shell                    0.178392\n",
              " autoopen                 0.154420\n",
              " document_open            0.117558\n",
              "base64 strings            0.107612\n",
              " createobject             0.077302\n",
              " auto_open                0.074142\n",
              " chr                      0.050755\n",
              " showwindow               0.036272\n",
              " open                     0.024846\n",
              " callbyname               0.017033\n",
              " hex strings              0.016660\n",
              " run                      0.014579\n",
              " workbook_open            0.013696\n",
              " call                     0.011274\n",
              " vba stomping             0.010901\n",
              " lib                      0.010820\n",
              " chrw                     0.009563\n",
              " windows                  0.009336\n",
              " output                   0.007919\n",
              " write                    0.007166\n",
              " shellexecute             0.007083\n",
              "dde                       0.005891\n",
              " environ                  0.005834\n",
              " binary                   0.004704\n",
              " system                   0.003763\n",
              " strreverse               0.003379\n",
              " kill                     0.003208\n",
              " activeworkbook.saveas    0.002718\n",
              " document_close           0.002405\n",
              " xor                      0.002073\n",
              " wscript.shell            0.002011\n",
              " savetofile               0.001539\n",
              " createtextfile           0.001319\n",
              " executeexcel4macro       0.001192\n",
              " filecopy                 0.000938\n",
              " vbhide                   0.000769\n",
              " chrb                     0.000599\n",
              " virtual                  0.000187\n",
              " shell.application        0.000142\n",
              " print                    0.000000\n",
              "dtype: float64"
            ]
          },
          "metadata": {},
          "execution_count": 13
        }
      ]
    },
    {
      "cell_type": "code",
      "source": [
        "import matplotlib.pyplot as plt\n",
        "import seaborn as sns\n",
        "%matplotlib inline\n",
        "\n",
        "# Creating a bar plot\n",
        "sns.barplot(x=feature_imp, y=feature_imp.index)\n",
        "\n",
        "# Add labels to your graph\n",
        "plt.xlabel('Feature Importance Score')\n",
        "plt.ylabel('Features')\n",
        "plt.title(\"Visualizing Important Features\")\n",
        "plt.show()"
      ],
      "metadata": {
        "colab": {
          "base_uri": "https://localhost:8080/",
          "height": 295
        },
        "id": "tuiE2rSvUhaR",
        "outputId": "1e6cd057-6d1c-4747-f2d3-18951d4e3e79"
      },
      "execution_count": null,
      "outputs": [
        {
          "output_type": "display_data",
          "data": {
            "text/plain": [
              "<Figure size 432x288 with 1 Axes>"
            ],
            "image/png": "[encoded data removed]"
          },
          "metadata": {
            "needs_background": "light"
          }
        }
      ]
    },
    {
      "cell_type": "code",
      "source": [
        ""
      ],
      "metadata": {
        "id": "6zKEL69sV3kb"
      },
      "execution_count": null,
      "outputs": []
    }
  ]
}